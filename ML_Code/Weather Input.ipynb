{
 "cells": [
  {
   "cell_type": "code",
   "execution_count": 10,
   "id": "2e19692b",
   "metadata": {},
   "outputs": [
    {
     "name": "stdout",
     "output_type": "stream",
     "text": [
      "Enter the temperature in Celsius: 20\n",
      "Enter the humidity as a percentage: 90\n",
      "Enter the pressure in millibars: 1000\n",
      "The predicted weather summary is:  Overcast weather.\n"
     ]
    }
   ],
   "source": [
    "import pickle\n",
    "from sklearn.preprocessing import LabelEncoder\n",
    "import pandas as pd\n",
    "\n",
    "# Load the pickled model\n",
    "with open('model.pkl', 'rb') as file:\n",
    "    clf = pickle.load(file)\n",
    "\n",
    "# Get the user input for temperature, humidity, and pressure\n",
    "temperature = float(input(\"Enter the temperature in Celsius: \"))\n",
    "humidity = float(input(\"Enter the humidity as a percentage: \"))\n",
    "pressure = float(input(\"Enter the pressure in millibars: \"))\n",
    "\n",
    "# Create a dataframe with the user input\n",
    "X_new = pd.DataFrame({'Temperature (C)': [temperature], 'Humidity': [humidity], 'Pressure (millibars)': [pressure]})\n",
    "\n",
    "# Define df as the pandas dataframe containing the training data\n",
    "df = pd.read_csv(\"weatherHistory.csv\")\n",
    "df = df.dropna()\n",
    "\n",
    "# Encode the categorical column using LabelEncoder\n",
    "enc = LabelEncoder()\n",
    "y_enc = enc.fit_transform(df['Summary'])\n",
    "\n",
    "# Make predictions on the new data\n",
    "y_pred_enc = clf.predict(X_new)\n",
    "\n",
    "# Decode the predicted classes back to their original categories\n",
    "y_pred = enc.inverse_transform(y_pred_enc)\n",
    "\n",
    "# Print the predicted category\n",
    "print(\"The predicted weather summary is: \", y_pred[0], \"weather.\")"
   ]
  },
  {
   "cell_type": "code",
   "execution_count": null,
   "id": "f0282dd1",
   "metadata": {},
   "outputs": [],
   "source": []
  },
  {
   "cell_type": "code",
   "execution_count": null,
   "id": "4d886cc8",
   "metadata": {},
   "outputs": [],
   "source": []
  }
 ],
 "metadata": {
  "kernelspec": {
   "display_name": "Python 3 (ipykernel)",
   "language": "python",
   "name": "python3"
  },
  "language_info": {
   "codemirror_mode": {
    "name": "ipython",
    "version": 3
   },
   "file_extension": ".py",
   "mimetype": "text/x-python",
   "name": "python",
   "nbconvert_exporter": "python",
   "pygments_lexer": "ipython3",
   "version": "3.9.12"
  }
 },
 "nbformat": 4,
 "nbformat_minor": 5
}
